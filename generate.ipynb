{
 "cells": [
  {
   "cell_type": "code",
   "execution_count": 2,
   "id": "85506f6f",
   "metadata": {},
   "outputs": [],
   "source": [
    "import torch\n",
    "\n",
    "from generate import generate_text\n",
    "from util import encode_text\n",
    "from config import load_config\n",
    "\n",
    "from fate_lstm import LSTMModel\n",
    "from fate_lstm_no_force import LSTMModelNoTeacherForcing"
   ]
  },
  {
   "cell_type": "code",
   "execution_count": 3,
   "id": "241b8a61",
   "metadata": {},
   "outputs": [
    {
     "name": "stdout",
     "output_type": "stream",
     "text": [
      "GENERATING TEXT WITH LSTM\n",
      "He said he was afraid of the night.\n",
      "\"――――――――\"\n",
      "...That's why I can't have to do so.\n",
      "I was convinced by a distance on the\n",
      "same has taken away and the stairs to be the\n",
      "one thing you can do is to fight any\n",
      "corpse. It's not that the worst things again.\n",
      "\"Then you're going to continue to your\n",
      "destraint once you want to kill me.\n",
      "I don't have to wait something to be a\n",
      "bit as always.\n",
      "I don't have any need for me to get her\n",
      "since I can do is strange things, so\n",
      "I'm sure she'll be able to save the house.\n",
      "So I shall die after that.\n",
      "I can't stay and a protection from the\n",
      "distance.\n",
      "It was a hurried arm and his Master.\n",
      "...It's a chill of power to think about it.\n",
      "The sleepiness magic is still at his condition.\n",
      "\"―――Sakura.\"\n",
      "I recover this and the two that is the sound\n",
      "off and the sword will be within the\n",
      "same.\n",
      "...The shadow can see her way, and it's because they're not\n",
      "there.\n",
      "So that's why I was able to kill them.\n",
      "\"――――――――――――\"\n",
      "I don't know what happened to be saved.\n",
      "...The problem is a magus.\n",
      "I don't know why, but I can't see her side \n"
     ]
    }
   ],
   "source": [
    "input_file = 'data/fsn_script.txt'\n",
    "device = torch.device(\"cuda\" if torch.cuda.is_available() else \"cpu\")\n",
    "\n",
    "encoded_text, vocab_size, char_to_idx, idx_to_char = encode_text(input_file)\n",
    "\n",
    "### Load the right config\n",
    "config_path = 'test/LSTM_deeper_seq64/config_e5a4144e-201a-4f0e-98b1-cc70af03676f.yaml'\n",
    "model_path = 'test/LSTM_deeper_seq64/LSTM_seqlen64_e5a4144e-201a-4f0e-98b1-cc70af03676f.pth'\n",
    "\n",
    "config = load_config(config_path)\n",
    "\n",
    "if config['model'] == 'LSTM':\n",
    "    print(\"GENERATING TEXT WITH LSTM\")\n",
    "    model = LSTMModel(vocab_size, config['embed_size'],\n",
    "                                config['hidden_size'],\n",
    "                                config['num_layers']).to(device)\n",
    "elif config['model'] == 'LSTM_NO_FORCING':\n",
    "    print(\"GENERATING TEXT WITH LSTM WITHOUT TEACHER FORCING\")\n",
    "    model = LSTMModelNoTeacherForcing(vocab_size, config['embed_size'],\n",
    "                                config['hidden_size'],\n",
    "                                config['num_layers']).to(device)\n",
    "else:\n",
    "    print(\"Config Exception: please specify model type as \\'LSTM\\' or \\'LSTM_NO_FORCING\\'\")\n",
    "\n",
    "model.load_state_dict(torch.load(model_path, weights_only=True, map_location=torch.device('cpu')))\n",
    "\n",
    "\n",
    "# Example usage\n",
    "generated = generate_text(model, device, char_to_idx, idx_to_char, max_len=1000, temp=0.5)\n",
    "print(generated)"
   ]
  },
  {
   "cell_type": "code",
   "execution_count": null,
   "id": "bbd208c7",
   "metadata": {},
   "outputs": [],
   "source": []
  }
 ],
 "metadata": {
  "kernelspec": {
   "display_name": "venv",
   "language": "python",
   "name": "python3"
  },
  "language_info": {
   "codemirror_mode": {
    "name": "ipython",
    "version": 3
   },
   "file_extension": ".py",
   "mimetype": "text/x-python",
   "name": "python",
   "nbconvert_exporter": "python",
   "pygments_lexer": "ipython3",
   "version": "3.12.3"
  }
 },
 "nbformat": 4,
 "nbformat_minor": 5
}
