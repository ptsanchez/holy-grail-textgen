{
 "cells": [
  {
   "cell_type": "code",
   "execution_count": 2,
   "id": "85506f6f",
   "metadata": {},
   "outputs": [],
   "source": [
    "import torch\n",
    "\n",
    "from generate import generate_text\n",
    "from util import encode_text\n",
    "from config import load_config\n",
    "\n",
    "from fate_lstm import LSTMModel\n",
    "from fate_lstm_no_force import LSTMModelNoTeacherForcing"
   ]
  },
  {
   "cell_type": "code",
   "execution_count": 19,
   "id": "241b8a61",
   "metadata": {},
   "outputs": [
    {
     "name": "stdout",
     "output_type": "stream",
     "text": [
      "GENERATING TEXT WITH LSTM\n",
      "He said he was afraid of the night.\n",
      "\"......\"\n",
      "The sword is still at the surprise.\n",
      "\"――――――――\"\n",
      "I start to take a bad feeling and put it\n",
      "and patter that can be able to save\n",
      "the strongest thing.\n",
      "I don't know what I was thinking.\n",
      "I don't know what kind of magical energy\n",
      "is a stronger than the way to the same\n",
      "as a Master.\n",
      "The man who could not be able to do.\n",
      "It's not that the priest that should be\n",
      "able to sense the Holy Grail.\n",
      "I will not be able to get to the church.\n",
      "It's not a big first time I was a strange\n",
      "place.\n",
      "I can't see her and the school is a bit\n",
      "about the contract of the start.\n",
      "The sword is the only one who can see\n",
      "her head on the end.\n",
      "\"――――――――\"\n",
      "...I see.\n",
      "I don't care about the boy with her.\n",
      "It's not that the magical energy to stay\n",
      "at the skills to the story to the start.\n",
      "\"――――――――\"\n",
      "I stop her way to the stairs.\n",
      "I don't know what I found out to me.\n",
      "I have to be able to do something to\n",
      "do this town.\n",
      "I don't know what I'm sorry.\n",
      "I can't let my body like a superhero and\n",
      "start to have the side of the strongest\n",
      "one.\n",
      "He sh\n"
     ]
    }
   ],
   "source": [
    "input_file = 'data/fsn_script.txt'\n",
    "device = torch.device(\"cuda\" if torch.cuda.is_available() else \"cpu\")\n",
    "\n",
    "encoded_text, vocab_size, char_to_idx, idx_to_char = encode_text(input_file)\n",
    "\n",
    "### Load the right config\n",
    "config_path = 'test/LSTM_deeper_seq64/config_e5a4144e-201a-4f0e-98b1-cc70af03676f.yaml'\n",
    "model_path = 'test/LSTM_deeper_seq64/LSTM_seqlen64_e5a4144e-201a-4f0e-98b1-cc70af03676f.pth'\n",
    "\n",
    "config = load_config(config_path)\n",
    "\n",
    "if config['model'] == 'LSTM':\n",
    "    print(\"GENERATING TEXT WITH LSTM\")\n",
    "    model = LSTMModel(vocab_size, config['embed_size'],\n",
    "                                config['hidden_size'],\n",
    "                                config['num_layers']).to(device)\n",
    "elif config['model'] == 'LSTM_NO_FORCING':\n",
    "    print(\"GENERATING TEXT WITH LSTM WITHOUT TEACHER FORCING\")\n",
    "    model = LSTMModelNoTeacherForcing(vocab_size, config['embed_size'],\n",
    "                                config['hidden_size'],\n",
    "                                config['num_layers']).to(device)\n",
    "else:\n",
    "    print(\"Config Exception: please specify model type as \\'LSTM\\' or \\'LSTM_NO_FORCING\\'\")\n",
    "\n",
    "model.load_state_dict(torch.load(model_path, weights_only=True, map_location=torch.device('cpu')))\n",
    "\n",
    "\n",
    "# Example usage\n",
    "generated = generate_text(model, device, char_to_idx, idx_to_char, max_len=1000, temp=0.3)\n",
    "print(generated)"
   ]
  },
  {
   "cell_type": "code",
   "execution_count": null,
   "id": "bbd208c7",
   "metadata": {},
   "outputs": [],
   "source": []
  }
 ],
 "metadata": {
  "kernelspec": {
   "display_name": "venv",
   "language": "python",
   "name": "python3"
  },
  "language_info": {
   "codemirror_mode": {
    "name": "ipython",
    "version": 3
   },
   "file_extension": ".py",
   "mimetype": "text/x-python",
   "name": "python",
   "nbconvert_exporter": "python",
   "pygments_lexer": "ipython3",
   "version": "3.12.3"
  }
 },
 "nbformat": 4,
 "nbformat_minor": 5
}
